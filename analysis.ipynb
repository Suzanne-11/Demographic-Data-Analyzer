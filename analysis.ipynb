{
 "cells": [
  {
   "cell_type": "code",
   "execution_count": 18,
   "id": "82dc82cd",
   "metadata": {},
   "outputs": [],
   "source": [
    "#importing libraries\n",
    "import pandas as pd\n"
   ]
  },
  {
   "cell_type": "markdown",
   "id": "de175e7b",
   "metadata": {},
   "source": [
    "## How many of each race are represented in this dataset? This should be a Pandas series with race names as the index labels.\n"
   ]
  },
  {
   "cell_type": "code",
   "execution_count": 3,
   "id": "6b9b22d6",
   "metadata": {},
   "outputs": [
    {
     "data": {
      "text/plain": [
       "White                 27816\n",
       "Black                  3124\n",
       "Asian-Pac-Islander     1039\n",
       "Amer-Indian-Eskimo      311\n",
       "Other                   271\n",
       "Name: race, dtype: int64"
      ]
     },
     "execution_count": 3,
     "metadata": {},
     "output_type": "execute_result"
    }
   ],
   "source": [
    "df = pd.read_csv(\"adult.data.csv\")   \n",
    "race_count = df['race'].value_counts()\n",
    "race_count"
   ]
  },
  {
   "cell_type": "markdown",
   "id": "8e96900a",
   "metadata": {},
   "source": [
    "## What is the average age of men?"
   ]
  },
  {
   "cell_type": "code",
   "execution_count": 4,
   "id": "cc658beb",
   "metadata": {},
   "outputs": [
    {
     "data": {
      "text/plain": [
       "39.4"
      ]
     },
     "execution_count": 4,
     "metadata": {},
     "output_type": "execute_result"
    }
   ],
   "source": [
    "age_men = df.loc[df['sex'] == 'Male']['age'].mean()\n",
    "average_age_men = round(age_men, 1)\n",
    "average_age_men"
   ]
  },
  {
   "cell_type": "markdown",
   "id": "5570cdd8",
   "metadata": {},
   "source": [
    "## What is the percentage of people who have a Bachelor's degree?"
   ]
  },
  {
   "cell_type": "code",
   "execution_count": null,
   "id": "1fe48c59",
   "metadata": {},
   "outputs": [],
   "source": [
    "bachelors_count = df.loc[df['education'] == 'Bachelors'].count()[0]\n",
    "total_count = df.count()[0]\n",
    "percentage_bachelors = round(bachelors_count/total_count * 100,1)"
   ]
  },
  {
   "cell_type": "markdown",
   "id": "62e23d8a",
   "metadata": {},
   "source": [
    "## What percentage of people with advanced education (`Bachelors`, `Masters`, or `Doctorate`) make more than 50K?"
   ]
  },
  {
   "cell_type": "code",
   "execution_count": 5,
   "id": "4b9b71dc",
   "metadata": {},
   "outputs": [
    {
     "data": {
      "text/plain": [
       "46.5"
      ]
     },
     "execution_count": 5,
     "metadata": {},
     "output_type": "execute_result"
    }
   ],
   "source": [
    "#with (Bachelors, Masters, or Doctorate)\n",
    "higher_education = df.loc[(df['education'] == 'Bachelors') | (df['education'] == 'Masters') | (df['education'] == 'Doctorate')].count()[0]\n",
    "\n",
    "# advanced education with salary >50K\n",
    "adv_edu_rich = df.loc[(df['salary']=='>50K') & ((df['education'] == 'Bachelors') | (df['education'] == 'Masters') | (df['education'] == 'Doctorate'))].count()[0]\n",
    "\n",
    "#percentage of people with advanced education and salary > 50K\n",
    "higher_education_rich = round(adv_edu_rich/higher_education * 100, 1)  #(46.5)\n",
    "higher_education_rich"
   ]
  },
  {
   "cell_type": "markdown",
   "id": "f2249d05",
   "metadata": {},
   "source": [
    "## What percentage of people without advanced education make more than 50K?"
   ]
  },
  {
   "cell_type": "code",
   "execution_count": 6,
   "id": "16c3d631",
   "metadata": {},
   "outputs": [
    {
     "data": {
      "text/plain": [
       "17.4"
      ]
     },
     "execution_count": 6,
     "metadata": {},
     "output_type": "execute_result"
    }
   ],
   "source": [
    "#without (Bachelors, Masters, or Doctorate)\n",
    "lower_education = df.loc[(df['education'] != 'Bachelors') & (df['education'] != 'Masters') & (df['education'] != 'Doctorate')].count()[0]\n",
    "\n",
    "#without adv education but salary > 50K\n",
    "low_edu_rich = df.loc[(df['salary']=='>50K') & ((df['education'] != 'Bachelors') & (df['education'] != 'Masters') & (df['education'] != 'Doctorate'))].count()[0]\n",
    "\n",
    "#percentage without adv education but salary > 50K\n",
    "lower_education_rich = round(low_edu_rich/lower_education * 100, 1)\n",
    "lower_education_rich"
   ]
  },
  {
   "cell_type": "markdown",
   "id": "0544351a",
   "metadata": {},
   "source": [
    "## What is the minimum number of hours a person works per week (hours-per-week feature)?"
   ]
  },
  {
   "cell_type": "code",
   "execution_count": 7,
   "id": "46435c9f",
   "metadata": {},
   "outputs": [
    {
     "data": {
      "text/plain": [
       "1"
      ]
     },
     "execution_count": 7,
     "metadata": {},
     "output_type": "execute_result"
    }
   ],
   "source": [
    "min_work_hours = df['hours-per-week'].min()\n",
    "min_work_hours"
   ]
  },
  {
   "cell_type": "markdown",
   "id": "7369578e",
   "metadata": {},
   "source": [
    "## What percentage of the people who work the minimum number of hours per week have a salary of >50K?"
   ]
  },
  {
   "cell_type": "code",
   "execution_count": 8,
   "id": "6c457de8",
   "metadata": {},
   "outputs": [
    {
     "data": {
      "text/plain": [
       "10.0"
      ]
     },
     "execution_count": 8,
     "metadata": {},
     "output_type": "execute_result"
    }
   ],
   "source": [
    "#workers with minimum work hours i.e 1hr\n",
    "num_min_workers = df[df['hours-per-week'] == min_work_hours] #will make a df with min work hours = 1\n",
    "\n",
    "#workers who work for min hours with salary > 50K\n",
    "num_min_workers_rich = num_min_workers[num_min_workers['salary'] == '>50K'].count()[0]\n",
    "\n",
    "#percentage of workers who work for min hours with salary > 50K\n",
    "rich_percentage = round(num_min_workers_rich/len(num_min_workers)*100, 1)\n",
    "rich_percentage"
   ]
  },
  {
   "cell_type": "markdown",
   "id": "e9c7c5dd",
   "metadata": {},
   "source": [
    "## What country has the highest percentage of people that earn >50K?"
   ]
  },
  {
   "cell_type": "code",
   "execution_count": 9,
   "id": "29793345",
   "metadata": {},
   "outputs": [
    {
     "data": {
      "text/plain": [
       "41.9"
      ]
     },
     "execution_count": 9,
     "metadata": {},
     "output_type": "execute_result"
    }
   ],
   "source": [
    "#1. Find number of people in every country\n",
    "no_of_people_in_countries = df['native-country'].value_counts()\n",
    "  \n",
    "#2. Find number of people with salary > 50K in every country\n",
    "people_with_high_sal_in_countries = df[df['salary'] == '>50K']['native-country'].value_counts()\n",
    "\n",
    "#3. Find % of people with salary > 50K in every country\n",
    "countries_rich_people_percent = round(people_with_high_sal_in_countries/no_of_people_in_countries*100,1)\n",
    "\n",
    "#4. Find the highest earning country  ('Iran')\n",
    "highest_earning_country = countries_rich_people_percent.idxmax()\n",
    "#highest_earning_country\n",
    "  \n",
    "#5. Highest percentage of people that earn >50K  (41.86)\n",
    "highest_earning_country_percentage = round(countries_rich_people_percent.max(), 1)\n",
    "highest_earning_country_percentage"
   ]
  },
  {
   "cell_type": "markdown",
   "id": "43ba9c34",
   "metadata": {},
   "source": [
    "## Identify the most popular occupation for those who earn >50K in India."
   ]
  },
  {
   "cell_type": "code",
   "execution_count": 10,
   "id": "1befaaf8",
   "metadata": {},
   "outputs": [
    {
     "data": {
      "text/plain": [
       "'Prof-specialty'"
      ]
     },
     "execution_count": 10,
     "metadata": {},
     "output_type": "execute_result"
    }
   ],
   "source": [
    "#1. Find number of people in India & of people with salary > 50K in India\n",
    "rich_people_india = df[(df['native-country']=='India') & (df['salary'] == '>50K')]\n",
    "  \n",
    "#2. Find the most popular occupation for these people\n",
    "occupations_of_rich_people_india = rich_people_india['occupation'].value_counts()\n",
    "#occupations_of_rich_people_india\n",
    "  \n",
    "top_IN_occupation = occupations_of_rich_people_india.idxmax()\n",
    "top_IN_occupation"
   ]
  }
 ],
 "metadata": {
  "kernelspec": {
   "display_name": "Python 3",
   "language": "python",
   "name": "python3"
  },
  "language_info": {
   "codemirror_mode": {
    "name": "ipython",
    "version": 3
   },
   "file_extension": ".py",
   "mimetype": "text/x-python",
   "name": "python",
   "nbconvert_exporter": "python",
   "pygments_lexer": "ipython3",
   "version": "3.8.8"
  }
 },
 "nbformat": 4,
 "nbformat_minor": 5
}
